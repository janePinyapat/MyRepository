{
 "cells": [
  {
   "cell_type": "code",
   "execution_count": 0,
   "metadata": {
    "application/vnd.databricks.v1+cell": {
     "cellMetadata": {
      "byteLimit": 2048000,
      "rowLimit": 10000
     },
     "inputWidgets": {},
     "nuid": "5726ae6d-26f1-410c-8158-25544c66b600",
     "showTitle": false,
     "tableResultSettingsMap": {},
     "title": ""
    }
   },
   "outputs": [],
   "source": [
    "# Install the library\n",
    "!pip install databricks-labs-dqx"
   ]
  },
  {
   "cell_type": "code",
   "execution_count": 0,
   "metadata": {
    "application/vnd.databricks.v1+cell": {
     "cellMetadata": {
      "byteLimit": 2048000,
      "rowLimit": 10000
     },
     "inputWidgets": {},
     "nuid": "0eff7533-c198-483b-9e2d-75d05eb0cdda",
     "showTitle": false,
     "tableResultSettingsMap": {},
     "title": ""
    }
   },
   "outputs": [],
   "source": [
    "# Restart your compute\n",
    "dbutils.library.restartPython()"
   ]
  },
  {
   "cell_type": "code",
   "execution_count": 0,
   "metadata": {
    "application/vnd.databricks.v1+cell": {
     "cellMetadata": {
      "byteLimit": 2048000,
      "rowLimit": 10000
     },
     "inputWidgets": {},
     "nuid": "fd60bbc2-2c32-4ba1-8b92-d2679287fb85",
     "showTitle": false,
     "tableResultSettingsMap": {},
     "title": ""
    }
   },
   "outputs": [],
   "source": [
    "from pyspark.sql import SparkSession\n",
    "from pyspark.sql.functions import col, lit, when\n",
    "import random\n",
    "import string\n",
    "\n",
    "# Initialize Spark session\n",
    "spark = SparkSession.builder \\\n",
    "    .appName(\"Bad Quality DataFrame\") \\\n",
    "    .getOrCreate()\n",
    "\n",
    "# Function to generate random data\n",
    "def generate_random_name():\n",
    "    return ''.join(random.choices(string.ascii_uppercase, k=5))\n",
    "\n",
    "def generate_random_age():\n",
    "    return random.choice([None, random.randint(18, 80)])\n",
    "\n",
    "def generate_random_gender():\n",
    "    return random.choice([None, 'Male', 'Female', 'Other'])\n",
    "\n",
    "# Create a list of rows with bad data\n",
    "data = []\n",
    "for i in range(100):\n",
    "    id = i + 1\n",
    "    name = generate_random_name() if random.random() > 0.1 else None  # 10% chance of null name\n",
    "    age = generate_random_age()\n",
    "    gender = generate_random_gender()\n",
    "\n",
    "    # Introduce some duplicates, randomly\n",
    "    if random.random() > 0.9 and len(data) > 1:  # 10% chance to duplicate a previous row\n",
    "        data.append(data[random.randint(0, len(data)-1)])\n",
    "    else:\n",
    "        data.append((id, name, age, gender))\n",
    "\n",
    "# Create a DataFrame\n",
    "columns = ['id', 'name', 'age', 'gender']\n",
    "df = spark.createDataFrame(data, columns)\n",
    "\n",
    "# Introduce random bad quality data\n",
    "df = df.withColumn('age', when(col('age').isNull(), -1).otherwise(col('age')))  # Assign -1 for null ages\n",
    "\n",
    "# Show the DataFrame\n",
    "df.show(100, truncate=False)\n"
   ]
  },
  {
   "cell_type": "code",
   "execution_count": 0,
   "metadata": {
    "application/vnd.databricks.v1+cell": {
     "cellMetadata": {
      "byteLimit": 2048000,
      "rowLimit": 10000
     },
     "inputWidgets": {},
     "nuid": "154da73a-9b82-4d47-8fa0-a2fc1a64cbb0",
     "showTitle": false,
     "tableResultSettingsMap": {},
     "title": ""
    }
   },
   "outputs": [],
   "source": [
    "from databricks.labs.dqx.profiler.profiler import DQProfiler\n",
    "from databricks.labs.dqx.profiler.generator import DQGenerator\n",
    "from databricks.labs.dqx.engine import DQEngine\n",
    "from databricks.labs.dqx.col_functions import *\n",
    "from databricks.sdk import WorkspaceClient\n",
    "\n"
   ]
  },
  {
   "cell_type": "code",
   "execution_count": 0,
   "metadata": {
    "application/vnd.databricks.v1+cell": {
     "cellMetadata": {
      "byteLimit": 2048000,
      "rowLimit": 10000
     },
     "inputWidgets": {},
     "nuid": "92875d75-a232-4a88-be09-06aabbc72ca2",
     "showTitle": false,
     "tableResultSettingsMap": {},
     "title": ""
    }
   },
   "outputs": [],
   "source": [
    "# Connect to the blank workspace\n",
    "\n",
    "ws_client = WorkspaceClient()"
   ]
  },
  {
   "cell_type": "code",
   "execution_count": 0,
   "metadata": {
    "application/vnd.databricks.v1+cell": {
     "cellMetadata": {
      "byteLimit": 2048000,
      "rowLimit": 10000
     },
     "inputWidgets": {},
     "nuid": "b9d74f65-ad89-4a61-9fbe-fbd62306e8a6",
     "showTitle": false,
     "tableResultSettingsMap": {},
     "title": ""
    }
   },
   "outputs": [],
   "source": [
    "# Function Profile\n",
    "\n",
    "def profile_data(input_df):\n",
    "    try:\n",
    "        profiler = DQProfiler(ws_client)\n",
    "        summary_stats, profiles = profiler.profile(input_df)\n",
    "        return summary_stats, profiles\n",
    "    except Exception as e:\n",
    "        raise"
   ]
  },
  {
   "cell_type": "code",
   "execution_count": 0,
   "metadata": {
    "application/vnd.databricks.v1+cell": {
     "cellMetadata": {
      "byteLimit": 2048000,
      "rowLimit": 10000
     },
     "inputWidgets": {},
     "nuid": "2702cdba-97af-49b5-99a7-758e9d789b3e",
     "showTitle": false,
     "tableResultSettingsMap": {},
     "title": ""
    }
   },
   "outputs": [],
   "source": [
    "import json\n",
    "summary_stats, profiles = profile_data(df)\n",
    "# print(f\"Summary Stats: {json.dumps(summary_stats)}\")\n",
    "print(f\"Profile: {profiles}\")"
   ]
  },
  {
   "cell_type": "code",
   "execution_count": 0,
   "metadata": {
    "application/vnd.databricks.v1+cell": {
     "cellMetadata": {
      "byteLimit": 2048000,
      "rowLimit": 10000
     },
     "inputWidgets": {},
     "nuid": "f6944c62-ee90-4724-bbeb-81194b0c0971",
     "showTitle": false,
     "tableResultSettingsMap": {},
     "title": ""
    }
   },
   "outputs": [],
   "source": [
    "# Added the profile checkers\n",
    "for i in profiles:\n",
    "    print(i)"
   ]
  },
  {
   "cell_type": "code",
   "execution_count": 0,
   "metadata": {
    "application/vnd.databricks.v1+cell": {
     "cellMetadata": {
      "byteLimit": 2048000,
      "rowLimit": 10000
     },
     "inputWidgets": {},
     "nuid": "fa0762da-1558-4145-847b-afb4156500b6",
     "showTitle": false,
     "tableResultSettingsMap": {},
     "title": ""
    }
   },
   "outputs": [],
   "source": [
    "def generate_dq_checks(profiles):\n",
    "    try:\n",
    "        generator = DQGenerator(ws_client)\n",
    "        checks = generator.generate_dq_rules(profiles)\n",
    "        return checks\n",
    "    except Exception as e:\n",
    "        raise\n",
    "\n",
    "def apply_quality_checks(input_df, checks):\n",
    "    try:\n",
    "        dq_engine = DQEngine(ws_client)\n",
    "        result_df = dq_engine.apply_checks_by_metadata(input_df, checks)\n",
    "\n",
    "        return result_df\n",
    "    except Exception as e:\n",
    "        raise"
   ]
  },
  {
   "cell_type": "code",
   "execution_count": 0,
   "metadata": {
    "application/vnd.databricks.v1+cell": {
     "cellMetadata": {
      "byteLimit": 2048000,
      "rowLimit": 10000
     },
     "inputWidgets": {},
     "nuid": "bee8ab38-4762-4a6b-9e99-5428183cc4ca",
     "showTitle": false,
     "tableResultSettingsMap": {},
     "title": ""
    }
   },
   "outputs": [],
   "source": [
    "\n",
    "checks = generate_dq_checks(profiles)\n",
    "for i in checks:\n",
    "    print(i)\n",
    "\n",
    "validated_df = apply_quality_checks(df, checks)\n",
    "display(validated_df)"
   ]
  }
 ],
 "metadata": {
  "application/vnd.databricks.v1+notebook": {
   "computePreferences": null,
   "dashboards": [],
   "environmentMetadata": {
    "base_environment": "",
    "environment_version": "2"
   },
   "language": "python",
   "notebookMetadata": {
    "pythonIndentUnit": 4
   },
   "notebookName": "(Clone) MyNotebook",
   "widgets": {}
  },
  "language_info": {
   "name": "python"
  }
 },
 "nbformat": 4,
 "nbformat_minor": 0
}
